{
 "cells": [
  {
   "cell_type": "markdown",
   "metadata": {},
   "source": [
    "# Digication\n",
    "\n",
    "- https://cunyonline.digication.com/daniel_chan_dssv_699_01_spring_2017_an_unexpected_journey/About_me"
   ]
  },
  {
   "cell_type": "raw",
   "metadata": {},
   "source": [
    "Welcome\n",
    "\n",
    "Daniel Chan's E-portfolio.\n",
    "\n",
    "\n",
    "This e-portfolio is the final culmination of my academic career (unless I decide on a Ph.D).  This e-portfolio chronicles my professional, academic, and some of my personal journey. \n",
    " \n",
    "\n",
    "Indeed, this journey has been (at least for me) an interesting, winding, and yet strangely, circular road.  There were a great many \"pit stops\" and surprises along my travels. As some of you may know, the idea of I began my career in disability service quite by accident.  I was at a crossroad in my life and by happenstance, I was dating a woman with a daughter that had severe disabilities.  I didn't know this until further along in our relationship but I didn't \"cut and run\" after I found out (which I believe she expected).  Instead I found a calling in life and I left my job (or career) at the time to go into disability service with a non-profit agency.  I was what was called a Direct Care Worker at the time and it was very difficult yet rewarding work and it changed my life.\n",
    "\n",
    " \n",
    "This e-portfolio documents parts of my journey, mostly the academic part, some of the professional parts and alludes to a bit of the personal part.  If you want to know more, send me a line.  :-)\n",
    "\n",
    "\n",
    "In the meantime, I hope you enjoy reading this \"travelogue!\"  \n",
    "\n",
    " \n",
    "\n",
    "Thank you for visiting and if you have any questions, please feel free to contact me via the \"Contact Me\" tab in the Sections Row above.\n",
    "\n",
    " \n",
    "\n",
    "Daniel Chan"
   ]
  },
  {
   "cell_type": "code",
   "execution_count": null,
   "metadata": {},
   "outputs": [],
   "source": []
  }
 ],
 "metadata": {
  "kernelspec": {
   "display_name": "Python 3",
   "language": "python",
   "name": "python3"
  },
  "language_info": {
   "codemirror_mode": {
    "name": "ipython",
    "version": 3
   },
   "file_extension": ".py",
   "mimetype": "text/x-python",
   "name": "python",
   "nbconvert_exporter": "python",
   "pygments_lexer": "ipython3",
   "version": "3.6.7"
  }
 },
 "nbformat": 4,
 "nbformat_minor": 2
}
