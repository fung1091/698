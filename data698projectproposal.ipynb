{
 "cells": [
  {
   "cell_type": "markdown",
   "metadata": {},
   "source": [
    "# Data 698 Project Proposal\n",
    "## Author: Jim Lung\n",
    "### Title:"
   ]
  },
  {
   "cell_type": "markdown",
   "metadata": {},
   "source": [
    "- dentify a research topic and develop a research plan\n",
    "\n",
    "    - Investigation of investment strategic for S&P500 \n",
    "\n",
    "    - What is the best\n",
    "\n",
    "\n",
    "- Conduct a literature review and perform research\n",
    "\n",
    "- Collect and analyze data\n",
    "    - Comparing around S&P 500 stock shares\n",
    "    - Scrapying the recent news in web (Avoid of being block, the news should be exported into CSV or txt format)\n",
    "\n",
    "\n",
    "\n",
    "- Write-up and disseminate research results \n",
    "    - Using the \n",
    "    \n",
    "    \n",
    "- Objective\n",
    "    To build the porfolio optimization by higher monthly return\n",
    "    To choose the top 20 best return\n",
    "    To apply the machine learning method to predict the trend and pick up the positive trend of stocks\n",
    "    To scrapy the news of these stock in positive trend from machine learning and use the NLP method to test the trends if it is positive or negative trend."
   ]
  },
  {
   "cell_type": "markdown",
   "metadata": {},
   "source": []
  },
  {
   "cell_type": "markdown",
   "metadata": {},
   "source": [
    "\n",
    "To conduct the strategic of investment in stock market. \n",
    "\n",
    "\n",
    "To use the mathematic programming to calculate the top 20 monthly return, and generate the machine learning model to predict the trend of specific stock. After picking the positive trend of top 3 stock, and we will scrapy the news of these stock for sentiment analysis by NLP. "
   ]
  },
  {
   "cell_type": "markdown",
   "metadata": {},
   "source": [
    "\n"
   ]
  },
  {
   "cell_type": "code",
   "execution_count": null,
   "metadata": {},
   "outputs": [],
   "source": []
  }
 ],
 "metadata": {
  "kernelspec": {
   "display_name": "Python 3",
   "language": "python",
   "name": "python3"
  },
  "language_info": {
   "codemirror_mode": {
    "name": "ipython",
    "version": 3
   },
   "file_extension": ".py",
   "mimetype": "text/x-python",
   "name": "python",
   "nbconvert_exporter": "python",
   "pygments_lexer": "ipython3",
   "version": "3.6.7"
  }
 },
 "nbformat": 4,
 "nbformat_minor": 2
}
